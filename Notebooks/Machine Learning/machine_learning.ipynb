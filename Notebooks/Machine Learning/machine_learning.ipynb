{
 "cells": [
  {
   "cell_type": "markdown",
   "metadata": {},
   "source": [
    "## Machine Learning"
   ]
  },
  {
   "cell_type": "code",
   "execution_count": 116,
   "metadata": {},
   "outputs": [
    {
     "data": {
      "text/html": [
       "<div>\n",
       "<style scoped>\n",
       "    .dataframe tbody tr th:only-of-type {\n",
       "        vertical-align: middle;\n",
       "    }\n",
       "\n",
       "    .dataframe tbody tr th {\n",
       "        vertical-align: top;\n",
       "    }\n",
       "\n",
       "    .dataframe thead th {\n",
       "        text-align: right;\n",
       "    }\n",
       "</style>\n",
       "<table border=\"1\" class=\"dataframe\">\n",
       "  <thead>\n",
       "    <tr style=\"text-align: right;\">\n",
       "      <th></th>\n",
       "      <th>Host City</th>\n",
       "      <th>Year</th>\n",
       "      <th>Team</th>\n",
       "      <th>Season</th>\n",
       "      <th>Season (Binary)</th>\n",
       "      <th>Latitude</th>\n",
       "      <th>Longitude</th>\n",
       "      <th>Host</th>\n",
       "      <th>GDP Total</th>\n",
       "      <th>Population</th>\n",
       "      <th>Total Disciplines</th>\n",
       "      <th>Total Athletes</th>\n",
       "      <th>Total Events</th>\n",
       "      <th>Total Countries</th>\n",
       "      <th>GDP per Capita</th>\n",
       "      <th>Team Size</th>\n",
       "      <th>Medal_Count</th>\n",
       "    </tr>\n",
       "  </thead>\n",
       "  <tbody>\n",
       "    <tr>\n",
       "      <th>0</th>\n",
       "      <td>Albertville</td>\n",
       "      <td>1992</td>\n",
       "      <td>Algeria</td>\n",
       "      <td>Winter</td>\n",
       "      <td>0</td>\n",
       "      <td>28.033886</td>\n",
       "      <td>1.659626</td>\n",
       "      <td>0</td>\n",
       "      <td>2.667951e+11</td>\n",
       "      <td>27028330.0</td>\n",
       "      <td>12.0</td>\n",
       "      <td>1801.0</td>\n",
       "      <td>57.0</td>\n",
       "      <td>64.0</td>\n",
       "      <td>9870.942241</td>\n",
       "      <td>4</td>\n",
       "      <td>0.0</td>\n",
       "    </tr>\n",
       "    <tr>\n",
       "      <th>1</th>\n",
       "      <td>Albertville</td>\n",
       "      <td>1992</td>\n",
       "      <td>Andorra</td>\n",
       "      <td>Winter</td>\n",
       "      <td>0</td>\n",
       "      <td>42.546245</td>\n",
       "      <td>1.601554</td>\n",
       "      <td>0</td>\n",
       "      <td>1.602650e+09</td>\n",
       "      <td>58882.0</td>\n",
       "      <td>12.0</td>\n",
       "      <td>1801.0</td>\n",
       "      <td>57.0</td>\n",
       "      <td>64.0</td>\n",
       "      <td>27218.000000</td>\n",
       "      <td>5</td>\n",
       "      <td>0.0</td>\n",
       "    </tr>\n",
       "    <tr>\n",
       "      <th>2</th>\n",
       "      <td>Albertville</td>\n",
       "      <td>1992</td>\n",
       "      <td>Argentina</td>\n",
       "      <td>Winter</td>\n",
       "      <td>0</td>\n",
       "      <td>-38.416097</td>\n",
       "      <td>-63.616672</td>\n",
       "      <td>0</td>\n",
       "      <td>4.369807e+11</td>\n",
       "      <td>33529320.0</td>\n",
       "      <td>12.0</td>\n",
       "      <td>1801.0</td>\n",
       "      <td>57.0</td>\n",
       "      <td>64.0</td>\n",
       "      <td>13032.793286</td>\n",
       "      <td>20</td>\n",
       "      <td>0.0</td>\n",
       "    </tr>\n",
       "    <tr>\n",
       "      <th>3</th>\n",
       "      <td>Albertville</td>\n",
       "      <td>1992</td>\n",
       "      <td>Australia</td>\n",
       "      <td>Winter</td>\n",
       "      <td>0</td>\n",
       "      <td>-25.274398</td>\n",
       "      <td>133.775136</td>\n",
       "      <td>0</td>\n",
       "      <td>4.867280e+11</td>\n",
       "      <td>17402179.0</td>\n",
       "      <td>12.0</td>\n",
       "      <td>1801.0</td>\n",
       "      <td>57.0</td>\n",
       "      <td>64.0</td>\n",
       "      <td>27969.371912</td>\n",
       "      <td>22</td>\n",
       "      <td>0.0</td>\n",
       "    </tr>\n",
       "    <tr>\n",
       "      <th>4</th>\n",
       "      <td>Albertville</td>\n",
       "      <td>1992</td>\n",
       "      <td>Austria</td>\n",
       "      <td>Winter</td>\n",
       "      <td>0</td>\n",
       "      <td>47.516231</td>\n",
       "      <td>14.550072</td>\n",
       "      <td>0</td>\n",
       "      <td>2.538148e+11</td>\n",
       "      <td>7830938.0</td>\n",
       "      <td>12.0</td>\n",
       "      <td>1801.0</td>\n",
       "      <td>57.0</td>\n",
       "      <td>64.0</td>\n",
       "      <td>32411.802459</td>\n",
       "      <td>58</td>\n",
       "      <td>21.0</td>\n",
       "    </tr>\n",
       "  </tbody>\n",
       "</table>\n",
       "</div>"
      ],
      "text/plain": [
       "     Host City  Year       Team  Season  Season (Binary)   Latitude  \\\n",
       "0  Albertville  1992    Algeria  Winter                0  28.033886   \n",
       "1  Albertville  1992    Andorra  Winter                0  42.546245   \n",
       "2  Albertville  1992  Argentina  Winter                0 -38.416097   \n",
       "3  Albertville  1992  Australia  Winter                0 -25.274398   \n",
       "4  Albertville  1992    Austria  Winter                0  47.516231   \n",
       "\n",
       "    Longitude  Host     GDP Total  Population  Total Disciplines  \\\n",
       "0    1.659626     0  2.667951e+11  27028330.0               12.0   \n",
       "1    1.601554     0  1.602650e+09     58882.0               12.0   \n",
       "2  -63.616672     0  4.369807e+11  33529320.0               12.0   \n",
       "3  133.775136     0  4.867280e+11  17402179.0               12.0   \n",
       "4   14.550072     0  2.538148e+11   7830938.0               12.0   \n",
       "\n",
       "   Total Athletes  Total Events  Total Countries  GDP per Capita  Team Size  \\\n",
       "0          1801.0          57.0             64.0     9870.942241          4   \n",
       "1          1801.0          57.0             64.0    27218.000000          5   \n",
       "2          1801.0          57.0             64.0    13032.793286         20   \n",
       "3          1801.0          57.0             64.0    27969.371912         22   \n",
       "4          1801.0          57.0             64.0    32411.802459         58   \n",
       "\n",
       "   Medal_Count  \n",
       "0          0.0  \n",
       "1          0.0  \n",
       "2          0.0  \n",
       "3          0.0  \n",
       "4         21.0  "
      ]
     },
     "execution_count": 116,
     "metadata": {},
     "output_type": "execute_result"
    }
   ],
   "source": [
    "# Getting the first 5 rows of final_df\n",
    "final_df.head()"
   ]
  },
  {
   "cell_type": "code",
   "execution_count": 117,
   "metadata": {},
   "outputs": [],
   "source": [
    "# Making the datasets\n",
    "X = final_df.iloc[:, 4:16].values\n",
    "y = final_df.iloc[:, 16].values"
   ]
  },
  {
   "cell_type": "code",
   "execution_count": 118,
   "metadata": {},
   "outputs": [],
   "source": [
    "from sklearn.model_selection import train_test_split\n",
    "\n",
    "# Splitting the datasets into training and testing\n",
    "X_train, X_test, y_train, y_test = train_test_split(X, y, test_size=0.25, random_state=0)"
   ]
  },
  {
   "cell_type": "code",
   "execution_count": 119,
   "metadata": {},
   "outputs": [],
   "source": [
    "# from sklearn.preprocessing import StandardScaler\n",
    "\n",
    "# # Feature Scaling\n",
    "# sc = StandardScaler()\n",
    "# X_train = sc.fit_transform(X_train)\n",
    "# X_test = sc.transform(X_test)"
   ]
  },
  {
   "cell_type": "code",
   "execution_count": 120,
   "metadata": {},
   "outputs": [],
   "source": [
    "from sklearn.ensemble import RandomForestRegressor\n",
    "\n",
    "# Training and testing the model\n",
    "regressor = RandomForestRegressor(n_estimators=500, random_state=0)\n",
    "regressor.fit(X_train, y_train)\n",
    "y_pred = regressor.predict(X_test)"
   ]
  },
  {
   "cell_type": "code",
   "execution_count": 121,
   "metadata": {},
   "outputs": [
    {
     "name": "stdout",
     "output_type": "stream",
     "text": [
      "Mean Absolute Error: 1.8258425720620841\n",
      "Mean Squared Error: 20.809213618625275\n",
      "Root Mean Squared Error: 4.561711698323917\n"
     ]
    }
   ],
   "source": [
    "from sklearn import metrics\n",
    "\n",
    "print('Mean Absolute Error:', metrics.mean_absolute_error(y_test, y_pred))\n",
    "print('Mean Squared Error:', metrics.mean_squared_error(y_test, y_pred))\n",
    "print('Root Mean Squared Error:', np.sqrt(metrics.mean_squared_error(y_test, y_pred)))"
   ]
  },
  {
   "cell_type": "code",
   "execution_count": 122,
   "metadata": {},
   "outputs": [],
   "source": [
    "# Creating a test DataFrame\n",
    "usa_test = {'Season (Binary)': 0, 'Latitude': 37.0902, 'Longitude': 95.7129, 'Host': 0, 'GDP Total': 20580000000000,\n",
    "           'Population': 327200000, 'Total Disciplines': 15, 'Total Athletes': 2922, 'Total Events': 102,\n",
    "           'Total Countries': 92, 'GDP per Capita': 62897.3105134, 'Team Size': 241}\n",
    "\n",
    "usa_test_df = pd.DataFrame(usa_test, index=[0])"
   ]
  },
  {
   "cell_type": "code",
   "execution_count": 123,
   "metadata": {
    "scrolled": true
   },
   "outputs": [
    {
     "data": {
      "text/html": [
       "<div>\n",
       "<style scoped>\n",
       "    .dataframe tbody tr th:only-of-type {\n",
       "        vertical-align: middle;\n",
       "    }\n",
       "\n",
       "    .dataframe tbody tr th {\n",
       "        vertical-align: top;\n",
       "    }\n",
       "\n",
       "    .dataframe thead th {\n",
       "        text-align: right;\n",
       "    }\n",
       "</style>\n",
       "<table border=\"1\" class=\"dataframe\">\n",
       "  <thead>\n",
       "    <tr style=\"text-align: right;\">\n",
       "      <th></th>\n",
       "      <th>Season (Binary)</th>\n",
       "      <th>Latitude</th>\n",
       "      <th>Longitude</th>\n",
       "      <th>Host</th>\n",
       "      <th>GDP Total</th>\n",
       "      <th>Population</th>\n",
       "      <th>Total Disciplines</th>\n",
       "      <th>Total Athletes</th>\n",
       "      <th>Total Events</th>\n",
       "      <th>Total Countries</th>\n",
       "      <th>GDP per Capita</th>\n",
       "      <th>Team Size</th>\n",
       "    </tr>\n",
       "  </thead>\n",
       "  <tbody>\n",
       "    <tr>\n",
       "      <th>0</th>\n",
       "      <td>0</td>\n",
       "      <td>37.0902</td>\n",
       "      <td>95.7129</td>\n",
       "      <td>0</td>\n",
       "      <td>20580000000000</td>\n",
       "      <td>327200000</td>\n",
       "      <td>15</td>\n",
       "      <td>2922</td>\n",
       "      <td>102</td>\n",
       "      <td>92</td>\n",
       "      <td>62897.310513</td>\n",
       "      <td>241</td>\n",
       "    </tr>\n",
       "  </tbody>\n",
       "</table>\n",
       "</div>"
      ],
      "text/plain": [
       "   Season (Binary)  Latitude  Longitude  Host       GDP Total  Population  \\\n",
       "0                0   37.0902    95.7129     0  20580000000000   327200000   \n",
       "\n",
       "   Total Disciplines  Total Athletes  Total Events  Total Countries  \\\n",
       "0                 15            2922           102               92   \n",
       "\n",
       "   GDP per Capita  Team Size  \n",
       "0    62897.310513        241  "
      ]
     },
     "execution_count": 123,
     "metadata": {},
     "output_type": "execute_result"
    }
   ],
   "source": [
    "# Viewing the test DataFrame\n",
    "usa_test_df"
   ]
  },
  {
   "cell_type": "code",
   "execution_count": 124,
   "metadata": {},
   "outputs": [],
   "source": [
    "# Testing the model\n",
    "y_pred = regressor.predict(usa_test_df)"
   ]
  },
  {
   "cell_type": "code",
   "execution_count": 125,
   "metadata": {},
   "outputs": [
    {
     "name": "stdout",
     "output_type": "stream",
     "text": [
      "[27.468]\n"
     ]
    }
   ],
   "source": [
    "# Not bad. The actual result was 23 medals\n",
    "print(y_pred)"
   ]
  },
  {
   "cell_type": "code",
   "execution_count": null,
   "metadata": {},
   "outputs": [],
   "source": []
  }
 ],
 "metadata": {
  "kernelspec": {
   "display_name": "PythonData",
   "language": "python",
   "name": "pythondata"
  },
  "language_info": {
   "codemirror_mode": {
    "name": "ipython",
    "version": 3
   },
   "file_extension": ".py",
   "mimetype": "text/x-python",
   "name": "python",
   "nbconvert_exporter": "python",
   "pygments_lexer": "ipython3",
   "version": "3.8.5"
  }
 },
 "nbformat": 4,
 "nbformat_minor": 4
}
