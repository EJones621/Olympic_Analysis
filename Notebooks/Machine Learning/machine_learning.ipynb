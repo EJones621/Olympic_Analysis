{
 "cells": [
  {
   "cell_type": "markdown",
   "metadata": {},
   "source": [
    "## Machine Learning"
   ]
  },
  {
   "cell_type": "code",
<<<<<<< HEAD
   "execution_count": 128,
   "metadata": {},
=======
   "execution_count": null,
   "metadata": {},
   "outputs": [],
   "source": [
    "# Import dependencies\n",
    "from pymongo import MongoClient\n",
    "from password import connection_string\n",
    "import pandas as pd\n",
    "import numpy as np"
   ]
  },
  {
   "cell_type": "code",
   "execution_count": 143,
   "metadata": {},
   "outputs": [],
   "source": [
    "# Take data off of MongoDB\n",
    "final_df = pd.DataFrame(list(final_df_collection.find()))"
   ]
  },
  {
   "cell_type": "code",
   "execution_count": 144,
   "metadata": {
    "scrolled": true
   },
>>>>>>> 318edbb8a1bfd1266a5649224015232ea2445a65
   "outputs": [
    {
     "data": {
      "text/html": [
       "<div>\n",
       "<style scoped>\n",
       "    .dataframe tbody tr th:only-of-type {\n",
       "        vertical-align: middle;\n",
       "    }\n",
       "\n",
       "    .dataframe tbody tr th {\n",
       "        vertical-align: top;\n",
       "    }\n",
       "\n",
       "    .dataframe thead th {\n",
       "        text-align: right;\n",
       "    }\n",
       "</style>\n",
       "<table border=\"1\" class=\"dataframe\">\n",
       "  <thead>\n",
       "    <tr style=\"text-align: right;\">\n",
       "      <th></th>\n",
<<<<<<< HEAD
=======
       "      <th>_id</th>\n",
>>>>>>> 318edbb8a1bfd1266a5649224015232ea2445a65
       "      <th>Host City</th>\n",
       "      <th>Year</th>\n",
       "      <th>Team</th>\n",
       "      <th>Season</th>\n",
       "      <th>Season (Binary)</th>\n",
       "      <th>Latitude</th>\n",
       "      <th>Longitude</th>\n",
       "      <th>Host</th>\n",
       "      <th>GDP Total</th>\n",
<<<<<<< HEAD
       "      <th>Population</th>\n",
       "      <th>Total Disciplines</th>\n",
       "      <th>Total Athletes</th>\n",
       "      <th>Total Events</th>\n",
       "      <th>Total Countries</th>\n",
       "      <th>GDP per Capita</th>\n",
=======
       "      <th>...</th>\n",
       "      <th>Total Events</th>\n",
       "      <th>Total Countries</th>\n",
       "      <th>GDP per Capita</th>\n",
       "      <th>Team Disciplines</th>\n",
       "      <th>Team Events</th>\n",
>>>>>>> 318edbb8a1bfd1266a5649224015232ea2445a65
       "      <th>Team Size</th>\n",
       "      <th>Bronze</th>\n",
       "      <th>Silver</th>\n",
       "      <th>Gold</th>\n",
       "      <th>Total Medals</th>\n",
       "    </tr>\n",
       "  </thead>\n",
       "  <tbody>\n",
       "    <tr>\n",
       "      <th>0</th>\n",
<<<<<<< HEAD
       "      <td>Barcelona</td>\n",
       "      <td>1992</td>\n",
       "      <td>China</td>\n",
       "      <td>Summer</td>\n",
       "      <td>1</td>\n",
       "      <td>35.861660</td>\n",
       "      <td>104.195397</td>\n",
       "      <td>0</td>\n",
       "      <td>2.234003e+12</td>\n",
       "      <td>1.206711e+09</td>\n",
       "      <td>34.0</td>\n",
       "      <td>9356.0</td>\n",
       "      <td>257.0</td>\n",
       "      <td>169.0</td>\n",
       "      <td>1851.315492</td>\n",
       "      <td>282</td>\n",
       "      <td>15.0</td>\n",
       "      <td>22.0</td>\n",
       "      <td>16.0</td>\n",
       "      <td>53.0</td>\n",
       "    </tr>\n",
       "    <tr>\n",
       "      <th>3</th>\n",
       "      <td>London</td>\n",
       "      <td>2012</td>\n",
       "      <td>China</td>\n",
       "      <td>Summer</td>\n",
       "      <td>1</td>\n",
       "      <td>35.861660</td>\n",
       "      <td>104.195397</td>\n",
       "      <td>0</td>\n",
       "      <td>1.538561e+13</td>\n",
       "      <td>1.384206e+09</td>\n",
       "      <td>36.0</td>\n",
       "      <td>10568.0</td>\n",
       "      <td>302.0</td>\n",
       "      <td>204.0</td>\n",
       "      <td>11115.110675</td>\n",
       "      <td>416</td>\n",
       "      <td>24.0</td>\n",
       "      <td>27.0</td>\n",
       "      <td>38.0</td>\n",
       "      <td>89.0</td>\n",
       "    </tr>\n",
       "    <tr>\n",
       "      <th>6</th>\n",
       "      <td>Antwerpen</td>\n",
       "      <td>1920</td>\n",
       "      <td>Denmark</td>\n",
       "      <td>Summer</td>\n",
       "      <td>1</td>\n",
       "      <td>56.263920</td>\n",
       "      <td>9.501785</td>\n",
       "      <td>0</td>\n",
       "      <td>2.325348e+10</td>\n",
       "      <td>3.241807e+06</td>\n",
       "      <td>29.0</td>\n",
       "      <td>2622.0</td>\n",
       "      <td>156.0</td>\n",
       "      <td>29.0</td>\n",
       "      <td>7173.000000</td>\n",
       "      <td>154</td>\n",
       "      <td>1.0</td>\n",
       "      <td>9.0</td>\n",
       "      <td>3.0</td>\n",
       "      <td>13.0</td>\n",
       "    </tr>\n",
       "    <tr>\n",
       "      <th>9</th>\n",
       "      <td>Paris</td>\n",
       "      <td>1900</td>\n",
       "      <td>Denmark</td>\n",
       "      <td>Summer</td>\n",
       "      <td>1</td>\n",
       "      <td>56.263920</td>\n",
       "      <td>9.501785</td>\n",
       "      <td>0</td>\n",
       "      <td>1.390554e+10</td>\n",
       "      <td>2.565597e+06</td>\n",
       "      <td>20.0</td>\n",
       "      <td>997.0</td>\n",
       "      <td>95.0</td>\n",
       "      <td>24.0</td>\n",
       "      <td>5420.000000</td>\n",
       "      <td>13</td>\n",
       "      <td>2.0</td>\n",
       "      <td>3.0</td>\n",
       "      <td>2.0</td>\n",
       "      <td>7.0</td>\n",
       "    </tr>\n",
       "    <tr>\n",
       "      <th>12</th>\n",
       "      <td>Calgary</td>\n",
       "      <td>1988</td>\n",
       "      <td>Netherlands</td>\n",
       "      <td>Winter</td>\n",
       "      <td>0</td>\n",
       "      <td>52.132633</td>\n",
       "      <td>5.291266</td>\n",
       "      <td>0</td>\n",
       "      <td>4.424437e+11</td>\n",
       "      <td>1.477403e+07</td>\n",
       "      <td>10.0</td>\n",
       "      <td>1423.0</td>\n",
       "      <td>46.0</td>\n",
       "      <td>57.0</td>\n",
       "      <td>29947.389734</td>\n",
       "      <td>11</td>\n",
       "      <td>2.0</td>\n",
       "      <td>2.0</td>\n",
       "      <td>3.0</td>\n",
       "      <td>7.0</td>\n",
       "    </tr>\n",
       "  </tbody>\n",
       "</table>\n",
       "</div>"
      ],
      "text/plain": [
       "    Host City  Year         Team  Season  Season (Binary)   Latitude  \\\n",
       "0   Barcelona  1992        China  Summer                1  35.861660   \n",
       "3      London  2012        China  Summer                1  35.861660   \n",
       "6   Antwerpen  1920      Denmark  Summer                1  56.263920   \n",
       "9       Paris  1900      Denmark  Summer                1  56.263920   \n",
       "12    Calgary  1988  Netherlands  Winter                0  52.132633   \n",
       "\n",
       "     Longitude  Host     GDP Total    Population  Total Disciplines  \\\n",
       "0   104.195397     0  2.234003e+12  1.206711e+09               34.0   \n",
       "3   104.195397     0  1.538561e+13  1.384206e+09               36.0   \n",
       "6     9.501785     0  2.325348e+10  3.241807e+06               29.0   \n",
       "9     9.501785     0  1.390554e+10  2.565597e+06               20.0   \n",
       "12    5.291266     0  4.424437e+11  1.477403e+07               10.0   \n",
       "\n",
       "    Total Athletes  Total Events  Total Countries  GDP per Capita  Team Size  \\\n",
       "0           9356.0         257.0            169.0     1851.315492        282   \n",
       "3          10568.0         302.0            204.0    11115.110675        416   \n",
       "6           2622.0         156.0             29.0     7173.000000        154   \n",
       "9            997.0          95.0             24.0     5420.000000         13   \n",
       "12          1423.0          46.0             57.0    29947.389734         11   \n",
       "\n",
       "    Bronze  Silver  Gold  Total Medals  \n",
       "0     15.0    22.0  16.0          53.0  \n",
       "3     24.0    27.0  38.0          89.0  \n",
       "6      1.0     9.0   3.0          13.0  \n",
       "9      2.0     3.0   2.0           7.0  \n",
       "12     2.0     2.0   3.0           7.0  "
      ]
     },
     "execution_count": 128,
=======
       "      <td>60a03e0375b9fcc5fa8278b7</td>\n",
       "      <td>Stockholm</td>\n",
       "      <td>1912</td>\n",
       "      <td>Finland</td>\n",
       "      <td>Summer</td>\n",
       "      <td>1</td>\n",
       "      <td>61.924110</td>\n",
       "      <td>25.748151</td>\n",
       "      <td>0</td>\n",
       "      <td>9.707610e+09</td>\n",
       "      <td>...</td>\n",
       "      <td>102.0</td>\n",
       "      <td>28.0</td>\n",
       "      <td>3274.000000</td>\n",
       "      <td>10</td>\n",
       "      <td>49</td>\n",
       "      <td>164</td>\n",
       "      <td>9.0</td>\n",
       "      <td>8.0</td>\n",
       "      <td>9.0</td>\n",
       "      <td>26.0</td>\n",
       "    </tr>\n",
       "    <tr>\n",
       "      <th>1</th>\n",
       "      <td>60a03e0375b9fcc5fa8278b8</td>\n",
       "      <td>Albertville</td>\n",
       "      <td>1992</td>\n",
       "      <td>USA</td>\n",
       "      <td>Winter</td>\n",
       "      <td>0</td>\n",
       "      <td>37.090240</td>\n",
       "      <td>-95.712891</td>\n",
       "      <td>0</td>\n",
       "      <td>9.520302e+12</td>\n",
       "      <td>...</td>\n",
       "      <td>57.0</td>\n",
       "      <td>64.0</td>\n",
       "      <td>37045.330120</td>\n",
       "      <td>12</td>\n",
       "      <td>56</td>\n",
       "      <td>148</td>\n",
       "      <td>2.0</td>\n",
       "      <td>4.0</td>\n",
       "      <td>5.0</td>\n",
       "      <td>11.0</td>\n",
       "    </tr>\n",
       "    <tr>\n",
       "      <th>2</th>\n",
       "      <td>60a03e0375b9fcc5fa8278b9</td>\n",
       "      <td>Lillehammer</td>\n",
       "      <td>1994</td>\n",
       "      <td>Norway</td>\n",
       "      <td>Winter</td>\n",
       "      <td>0</td>\n",
       "      <td>60.472024</td>\n",
       "      <td>8.468946</td>\n",
       "      <td>1</td>\n",
       "      <td>2.097252e+11</td>\n",
       "      <td>...</td>\n",
       "      <td>61.0</td>\n",
       "      <td>67.0</td>\n",
       "      <td>48305.780704</td>\n",
       "      <td>10</td>\n",
       "      <td>48</td>\n",
       "      <td>87</td>\n",
       "      <td>5.0</td>\n",
       "      <td>10.0</td>\n",
       "      <td>8.0</td>\n",
       "      <td>23.0</td>\n",
       "    </tr>\n",
       "    <tr>\n",
       "      <th>3</th>\n",
       "      <td>60a03e0375b9fcc5fa8278ba</td>\n",
       "      <td>Squaw Valley</td>\n",
       "      <td>1960</td>\n",
       "      <td>Norway</td>\n",
       "      <td>Winter</td>\n",
       "      <td>0</td>\n",
       "      <td>60.472024</td>\n",
       "      <td>8.468946</td>\n",
       "      <td>0</td>\n",
       "      <td>7.775834e+10</td>\n",
       "      <td>...</td>\n",
       "      <td>27.0</td>\n",
       "      <td>30.0</td>\n",
       "      <td>21705.000000</td>\n",
       "      <td>6</td>\n",
       "      <td>17</td>\n",
       "      <td>29</td>\n",
       "      <td>0.0</td>\n",
       "      <td>3.0</td>\n",
       "      <td>3.0</td>\n",
       "      <td>6.0</td>\n",
       "    </tr>\n",
       "    <tr>\n",
       "      <th>4</th>\n",
       "      <td>60a03e0375b9fcc5fa8278bb</td>\n",
       "      <td>Atlanta</td>\n",
       "      <td>1996</td>\n",
       "      <td>Netherlands</td>\n",
       "      <td>Summer</td>\n",
       "      <td>1</td>\n",
       "      <td>52.132633</td>\n",
       "      <td>5.291266</td>\n",
       "      <td>0</td>\n",
       "      <td>5.611086e+11</td>\n",
       "      <td>...</td>\n",
       "      <td>271.0</td>\n",
       "      <td>197.0</td>\n",
       "      <td>36053.428086</td>\n",
       "      <td>19</td>\n",
       "      <td>94</td>\n",
       "      <td>239</td>\n",
       "      <td>10.0</td>\n",
       "      <td>5.0</td>\n",
       "      <td>4.0</td>\n",
       "      <td>19.0</td>\n",
       "    </tr>\n",
       "  </tbody>\n",
       "</table>\n",
       "<p>5 rows × 25 columns</p>\n",
       "</div>"
      ],
      "text/plain": [
       "                        _id     Host City  Year         Team  Season  \\\n",
       "0  60a03e0375b9fcc5fa8278b7     Stockholm  1912      Finland  Summer   \n",
       "1  60a03e0375b9fcc5fa8278b8   Albertville  1992          USA  Winter   \n",
       "2  60a03e0375b9fcc5fa8278b9   Lillehammer  1994       Norway  Winter   \n",
       "3  60a03e0375b9fcc5fa8278ba  Squaw Valley  1960       Norway  Winter   \n",
       "4  60a03e0375b9fcc5fa8278bb       Atlanta  1996  Netherlands  Summer   \n",
       "\n",
       "   Season (Binary)   Latitude  Longitude  Host     GDP Total  ...  \\\n",
       "0                1  61.924110  25.748151     0  9.707610e+09  ...   \n",
       "1                0  37.090240 -95.712891     0  9.520302e+12  ...   \n",
       "2                0  60.472024   8.468946     1  2.097252e+11  ...   \n",
       "3                0  60.472024   8.468946     0  7.775834e+10  ...   \n",
       "4                1  52.132633   5.291266     0  5.611086e+11  ...   \n",
       "\n",
       "   Total Events  Total Countries  GDP per Capita  Team Disciplines  \\\n",
       "0         102.0             28.0     3274.000000                10   \n",
       "1          57.0             64.0    37045.330120                12   \n",
       "2          61.0             67.0    48305.780704                10   \n",
       "3          27.0             30.0    21705.000000                 6   \n",
       "4         271.0            197.0    36053.428086                19   \n",
       "\n",
       "   Team Events  Team Size  Bronze  Silver  Gold  Total Medals  \n",
       "0           49        164     9.0     8.0   9.0          26.0  \n",
       "1           56        148     2.0     4.0   5.0          11.0  \n",
       "2           48         87     5.0    10.0   8.0          23.0  \n",
       "3           17         29     0.0     3.0   3.0           6.0  \n",
       "4           94        239    10.0     5.0   4.0          19.0  \n",
       "\n",
       "[5 rows x 25 columns]"
      ]
     },
     "execution_count": 144,
     "metadata": {},
     "output_type": "execute_result"
    }
   ],
   "source": [
    "# Getting the first 5 rows of final_df\n",
    "final_df.head()"
   ]
  },
  {
   "cell_type": "code",
   "execution_count": 146,
   "metadata": {},
   "outputs": [],
   "source": [
    "# Dropping an uneccessary column\n",
    "final_df.drop('_id', axis=1, inplace=True)"
   ]
  },
  {
   "cell_type": "code",
   "execution_count": 147,
   "metadata": {},
   "outputs": [
    {
     "data": {
      "text/html": [
       "<div>\n",
       "<style scoped>\n",
       "    .dataframe tbody tr th:only-of-type {\n",
       "        vertical-align: middle;\n",
       "    }\n",
       "\n",
       "    .dataframe tbody tr th {\n",
       "        vertical-align: top;\n",
       "    }\n",
       "\n",
       "    .dataframe thead th {\n",
       "        text-align: right;\n",
       "    }\n",
       "</style>\n",
       "<table border=\"1\" class=\"dataframe\">\n",
       "  <thead>\n",
       "    <tr style=\"text-align: right;\">\n",
       "      <th></th>\n",
       "      <th>Host City</th>\n",
       "      <th>Year</th>\n",
       "      <th>Team</th>\n",
       "      <th>Season</th>\n",
       "      <th>Season (Binary)</th>\n",
       "      <th>Latitude</th>\n",
       "      <th>Longitude</th>\n",
       "      <th>Host</th>\n",
       "      <th>GDP Total</th>\n",
       "      <th>Population</th>\n",
       "      <th>...</th>\n",
       "      <th>Total Events</th>\n",
       "      <th>Total Countries</th>\n",
       "      <th>GDP per Capita</th>\n",
       "      <th>Team Disciplines</th>\n",
       "      <th>Team Events</th>\n",
       "      <th>Team Size</th>\n",
       "      <th>Bronze</th>\n",
       "      <th>Silver</th>\n",
       "      <th>Gold</th>\n",
       "      <th>Total Medals</th>\n",
       "    </tr>\n",
       "  </thead>\n",
       "  <tbody>\n",
       "    <tr>\n",
       "      <th>0</th>\n",
       "      <td>Stockholm</td>\n",
       "      <td>1912</td>\n",
       "      <td>Finland</td>\n",
       "      <td>Summer</td>\n",
       "      <td>1</td>\n",
       "      <td>61.924110</td>\n",
       "      <td>25.748151</td>\n",
       "      <td>0</td>\n",
       "      <td>9.707610e+09</td>\n",
       "      <td>2965061.0</td>\n",
       "      <td>...</td>\n",
       "      <td>102.0</td>\n",
       "      <td>28.0</td>\n",
       "      <td>3274.000000</td>\n",
       "      <td>10</td>\n",
       "      <td>49</td>\n",
       "      <td>164</td>\n",
       "      <td>9.0</td>\n",
       "      <td>8.0</td>\n",
       "      <td>9.0</td>\n",
       "      <td>26.0</td>\n",
       "    </tr>\n",
       "    <tr>\n",
       "      <th>1</th>\n",
       "      <td>Albertville</td>\n",
       "      <td>1992</td>\n",
       "      <td>USA</td>\n",
       "      <td>Winter</td>\n",
       "      <td>0</td>\n",
       "      <td>37.090240</td>\n",
       "      <td>-95.712891</td>\n",
       "      <td>0</td>\n",
       "      <td>9.520302e+12</td>\n",
       "      <td>256990608.0</td>\n",
       "      <td>...</td>\n",
       "      <td>57.0</td>\n",
       "      <td>64.0</td>\n",
       "      <td>37045.330120</td>\n",
       "      <td>12</td>\n",
       "      <td>56</td>\n",
       "      <td>148</td>\n",
       "      <td>2.0</td>\n",
       "      <td>4.0</td>\n",
       "      <td>5.0</td>\n",
       "      <td>11.0</td>\n",
       "    </tr>\n",
       "    <tr>\n",
       "      <th>2</th>\n",
       "      <td>Lillehammer</td>\n",
       "      <td>1994</td>\n",
       "      <td>Norway</td>\n",
       "      <td>Winter</td>\n",
       "      <td>0</td>\n",
       "      <td>60.472024</td>\n",
       "      <td>8.468946</td>\n",
       "      <td>1</td>\n",
       "      <td>2.097252e+11</td>\n",
       "      <td>4341616.0</td>\n",
       "      <td>...</td>\n",
       "      <td>61.0</td>\n",
       "      <td>67.0</td>\n",
       "      <td>48305.780704</td>\n",
       "      <td>10</td>\n",
       "      <td>48</td>\n",
       "      <td>87</td>\n",
       "      <td>5.0</td>\n",
       "      <td>10.0</td>\n",
       "      <td>8.0</td>\n",
       "      <td>23.0</td>\n",
       "    </tr>\n",
       "    <tr>\n",
       "      <th>3</th>\n",
       "      <td>Squaw Valley</td>\n",
       "      <td>1960</td>\n",
       "      <td>Norway</td>\n",
       "      <td>Winter</td>\n",
       "      <td>0</td>\n",
       "      <td>60.472024</td>\n",
       "      <td>8.468946</td>\n",
       "      <td>0</td>\n",
       "      <td>7.775834e+10</td>\n",
       "      <td>3582508.0</td>\n",
       "      <td>...</td>\n",
       "      <td>27.0</td>\n",
       "      <td>30.0</td>\n",
       "      <td>21705.000000</td>\n",
       "      <td>6</td>\n",
       "      <td>17</td>\n",
       "      <td>29</td>\n",
       "      <td>0.0</td>\n",
       "      <td>3.0</td>\n",
       "      <td>3.0</td>\n",
       "      <td>6.0</td>\n",
       "    </tr>\n",
       "    <tr>\n",
       "      <th>4</th>\n",
       "      <td>Atlanta</td>\n",
       "      <td>1996</td>\n",
       "      <td>Netherlands</td>\n",
       "      <td>Summer</td>\n",
       "      <td>1</td>\n",
       "      <td>52.132633</td>\n",
       "      <td>5.291266</td>\n",
       "      <td>0</td>\n",
       "      <td>5.611086e+11</td>\n",
       "      <td>15563252.0</td>\n",
       "      <td>...</td>\n",
       "      <td>271.0</td>\n",
       "      <td>197.0</td>\n",
       "      <td>36053.428086</td>\n",
       "      <td>19</td>\n",
       "      <td>94</td>\n",
       "      <td>239</td>\n",
       "      <td>10.0</td>\n",
       "      <td>5.0</td>\n",
       "      <td>4.0</td>\n",
       "      <td>19.0</td>\n",
       "    </tr>\n",
       "  </tbody>\n",
       "</table>\n",
       "<p>5 rows × 24 columns</p>\n",
       "</div>"
      ],
      "text/plain": [
       "      Host City  Year         Team  Season  Season (Binary)   Latitude  \\\n",
       "0     Stockholm  1912      Finland  Summer                1  61.924110   \n",
       "1   Albertville  1992          USA  Winter                0  37.090240   \n",
       "2   Lillehammer  1994       Norway  Winter                0  60.472024   \n",
       "3  Squaw Valley  1960       Norway  Winter                0  60.472024   \n",
       "4       Atlanta  1996  Netherlands  Summer                1  52.132633   \n",
       "\n",
       "   Longitude  Host     GDP Total   Population  ...  Total Events  \\\n",
       "0  25.748151     0  9.707610e+09    2965061.0  ...         102.0   \n",
       "1 -95.712891     0  9.520302e+12  256990608.0  ...          57.0   \n",
       "2   8.468946     1  2.097252e+11    4341616.0  ...          61.0   \n",
       "3   8.468946     0  7.775834e+10    3582508.0  ...          27.0   \n",
       "4   5.291266     0  5.611086e+11   15563252.0  ...         271.0   \n",
       "\n",
       "   Total Countries  GDP per Capita  Team Disciplines  Team Events  Team Size  \\\n",
       "0             28.0     3274.000000                10           49        164   \n",
       "1             64.0    37045.330120                12           56        148   \n",
       "2             67.0    48305.780704                10           48         87   \n",
       "3             30.0    21705.000000                 6           17         29   \n",
       "4            197.0    36053.428086                19           94        239   \n",
       "\n",
       "   Bronze  Silver  Gold  Total Medals  \n",
       "0     9.0     8.0   9.0          26.0  \n",
       "1     2.0     4.0   5.0          11.0  \n",
       "2     5.0    10.0   8.0          23.0  \n",
       "3     0.0     3.0   3.0           6.0  \n",
       "4    10.0     5.0   4.0          19.0  \n",
       "\n",
       "[5 rows x 24 columns]"
      ]
     },
     "execution_count": 147,
>>>>>>> 318edbb8a1bfd1266a5649224015232ea2445a65
     "metadata": {},
     "output_type": "execute_result"
    }
   ],
   "source": [
    "# Getting the first 5 rows of final_df\n",
    "final_df.head()"
   ]
  },
  {
   "cell_type": "code",
<<<<<<< HEAD
   "execution_count": 129,
   "metadata": {},
   "outputs": [],
   "source": [
    "# Making the datasets\n",
    "X = final_df.iloc[:, 4:16].values\n",
    "y = final_df.iloc[:, 19].values"
=======
   "execution_count": null,
   "metadata": {
    "scrolled": true
   },
   "outputs": [],
   "source": [
    "# Making the datasets\n",
    "X = final_df.iloc[:, 4:20].values\n",
    "y = final_df.iloc[:, 23].values"
>>>>>>> 318edbb8a1bfd1266a5649224015232ea2445a65
   ]
  },
  {
   "cell_type": "code",
<<<<<<< HEAD
   "execution_count": 130,
=======
   "execution_count": null,
>>>>>>> 318edbb8a1bfd1266a5649224015232ea2445a65
   "metadata": {},
   "outputs": [],
   "source": [
    "from sklearn.model_selection import train_test_split\n",
    "\n",
    "# Splitting the datasets into training and testing\n",
    "X_train, X_test, y_train, y_test = train_test_split(X, y, test_size=0.25, random_state=0)"
   ]
  },
  {
   "cell_type": "code",
<<<<<<< HEAD
   "execution_count": 131,
   "metadata": {},
   "outputs": [],
   "source": [
    "# from sklearn.preprocessing import StandardScaler\n",
    "\n",
    "# # Feature Scaling\n",
    "# sc = StandardScaler()\n",
    "# X_train = sc.fit_transform(X_train)\n",
    "# X_test = sc.transform(X_test)"
   ]
  },
  {
   "cell_type": "code",
   "execution_count": 132,
=======
   "execution_count": null,
>>>>>>> 318edbb8a1bfd1266a5649224015232ea2445a65
   "metadata": {},
   "outputs": [],
   "source": [
    "from sklearn.ensemble import RandomForestRegressor\n",
    "\n",
    "# Training and testing the model\n",
    "regressor = RandomForestRegressor(n_estimators=500, random_state=0)\n",
    "regressor.fit(X_train, y_train)\n",
    "y_pred = regressor.predict(X_test)"
   ]
  },
  {
   "cell_type": "code",
<<<<<<< HEAD
   "execution_count": 133,
   "metadata": {},
   "outputs": [
    {
     "name": "stdout",
     "output_type": "stream",
     "text": [
      "Mean Absolute Error: 2.0597117516629715\n",
      "Mean Squared Error: 32.41010774279379\n",
      "Root Mean Squared Error: 5.692987593767774\n"
     ]
    }
   ],
=======
   "execution_count": null,
   "metadata": {},
   "outputs": [],
>>>>>>> 318edbb8a1bfd1266a5649224015232ea2445a65
   "source": [
    "from sklearn import metrics\n",
    "\n",
    "print('Mean Absolute Error:', metrics.mean_absolute_error(y_test, y_pred))\n",
    "print('Mean Squared Error:', metrics.mean_squared_error(y_test, y_pred))\n",
    "print('Root Mean Squared Error:', np.sqrt(metrics.mean_squared_error(y_test, y_pred)))"
   ]
  },
  {
   "cell_type": "code",
<<<<<<< HEAD
   "execution_count": 138,
   "metadata": {},
   "outputs": [
    {
     "data": {
      "text/plain": [
       "0.793199614356529"
      ]
     },
     "execution_count": 138,
     "metadata": {},
     "output_type": "execute_result"
    }
   ],
   "source": [
=======
   "execution_count": null,
   "metadata": {},
   "outputs": [],
   "source": [
    "# Getting the accuracy of the model\n",
>>>>>>> 318edbb8a1bfd1266a5649224015232ea2445a65
    "accuracy = regressor.score(X_test, y_test)\n",
    "accuracy"
   ]
  },
  {
   "cell_type": "code",
<<<<<<< HEAD
   "execution_count": 134,
=======
   "execution_count": null,
   "metadata": {},
   "outputs": [],
   "source": [
    "print(y_pred[19:22])"
   ]
  },
  {
   "cell_type": "code",
   "execution_count": null,
   "metadata": {},
   "outputs": [],
   "source": [
    "print(y_test)"
   ]
  },
  {
   "cell_type": "code",
   "execution_count": null,
>>>>>>> 318edbb8a1bfd1266a5649224015232ea2445a65
   "metadata": {},
   "outputs": [],
   "source": [
    "# Creating a test DataFrame\n",
    "usa_test = {'Season (Binary)': 0, 'Latitude': 37.0902, 'Longitude': 95.7129, 'Host': 0, 'GDP Total': 20580000000000,\n",
<<<<<<< HEAD
    "           'Population': 327200000, 'Total Disciplines': 15, 'Total Athletes': 2922, 'Total Events': 102,\n",
=======
    "           'Population': 327200000, 'Total Disciplines': 15, 'Males': 134, 'Females': 107,\n",
    "           'Total Athletes': 2922, 'Total Events': 102, 'Team Disciplines': 15, 'Team Events': 97,\n",
>>>>>>> 318edbb8a1bfd1266a5649224015232ea2445a65
    "           'Total Countries': 92, 'GDP per Capita': 62897.3105134, 'Team Size': 241}\n",
    "\n",
    "usa_test_df = pd.DataFrame(usa_test, index=[0])"
   ]
  },
  {
   "cell_type": "code",
<<<<<<< HEAD
   "execution_count": 135,
   "metadata": {
    "scrolled": true
   },
   "outputs": [
    {
     "data": {
      "text/html": [
       "<div>\n",
       "<style scoped>\n",
       "    .dataframe tbody tr th:only-of-type {\n",
       "        vertical-align: middle;\n",
       "    }\n",
       "\n",
       "    .dataframe tbody tr th {\n",
       "        vertical-align: top;\n",
       "    }\n",
       "\n",
       "    .dataframe thead th {\n",
       "        text-align: right;\n",
       "    }\n",
       "</style>\n",
       "<table border=\"1\" class=\"dataframe\">\n",
       "  <thead>\n",
       "    <tr style=\"text-align: right;\">\n",
       "      <th></th>\n",
       "      <th>Season (Binary)</th>\n",
       "      <th>Latitude</th>\n",
       "      <th>Longitude</th>\n",
       "      <th>Host</th>\n",
       "      <th>GDP Total</th>\n",
       "      <th>Population</th>\n",
       "      <th>Total Disciplines</th>\n",
       "      <th>Total Athletes</th>\n",
       "      <th>Total Events</th>\n",
       "      <th>Total Countries</th>\n",
       "      <th>GDP per Capita</th>\n",
       "      <th>Team Size</th>\n",
       "    </tr>\n",
       "  </thead>\n",
       "  <tbody>\n",
       "    <tr>\n",
       "      <th>0</th>\n",
       "      <td>0</td>\n",
       "      <td>37.0902</td>\n",
       "      <td>95.7129</td>\n",
       "      <td>0</td>\n",
       "      <td>20580000000000</td>\n",
       "      <td>327200000</td>\n",
       "      <td>15</td>\n",
       "      <td>2922</td>\n",
       "      <td>102</td>\n",
       "      <td>92</td>\n",
       "      <td>62897.310513</td>\n",
       "      <td>241</td>\n",
       "    </tr>\n",
       "  </tbody>\n",
       "</table>\n",
       "</div>"
      ],
      "text/plain": [
       "   Season (Binary)  Latitude  Longitude  Host       GDP Total  Population  \\\n",
       "0                0   37.0902    95.7129     0  20580000000000   327200000   \n",
       "\n",
       "   Total Disciplines  Total Athletes  Total Events  Total Countries  \\\n",
       "0                 15            2922           102               92   \n",
       "\n",
       "   GDP per Capita  Team Size  \n",
       "0    62897.310513        241  "
      ]
     },
     "execution_count": 135,
     "metadata": {},
     "output_type": "execute_result"
    }
   ],
=======
   "execution_count": null,
   "metadata": {
    "scrolled": true
   },
   "outputs": [],
>>>>>>> 318edbb8a1bfd1266a5649224015232ea2445a65
   "source": [
    "# Viewing the test DataFrame\n",
    "usa_test_df"
   ]
  },
  {
   "cell_type": "code",
<<<<<<< HEAD
   "execution_count": 136,
=======
   "execution_count": null,
>>>>>>> 318edbb8a1bfd1266a5649224015232ea2445a65
   "metadata": {},
   "outputs": [],
   "source": [
    "# Testing the model\n",
    "y_pred = regressor.predict(usa_test_df)"
   ]
  },
  {
   "cell_type": "code",
<<<<<<< HEAD
   "execution_count": 137,
   "metadata": {},
   "outputs": [
    {
     "name": "stdout",
     "output_type": "stream",
     "text": [
      "[25.956]\n"
     ]
    }
   ],
=======
   "execution_count": null,
   "metadata": {
    "scrolled": true
   },
   "outputs": [],
>>>>>>> 318edbb8a1bfd1266a5649224015232ea2445a65
   "source": [
    "# Not bad. The actual result was 23 medals\n",
    "print(y_pred)"
   ]
  },
  {
   "cell_type": "code",
   "execution_count": null,
   "metadata": {},
   "outputs": [],
   "source": []
  }
 ],
 "metadata": {
  "kernelspec": {
   "display_name": "PythonData",
   "language": "python",
   "name": "pythondata"
  },
  "language_info": {
   "codemirror_mode": {
    "name": "ipython",
    "version": 3
   },
   "file_extension": ".py",
   "mimetype": "text/x-python",
   "name": "python",
   "nbconvert_exporter": "python",
   "pygments_lexer": "ipython3",
   "version": "3.8.5"
  }
 },
 "nbformat": 4,
 "nbformat_minor": 4
}
